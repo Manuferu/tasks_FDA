{
 "cells": [
  {
   "cell_type": "markdown",
   "metadata": {},
   "source": [
    "# File containing all tasks required"
   ]
  },
  {
   "cell_type": "markdown",
   "metadata": {},
   "source": [
    "# A) counts.py"
   ]
  },
  {
   "cell_type": "markdown",
   "metadata": {},
   "source": [
    "### 1) set an empty list and ask for the total number of items on it we want."
   ]
  },
  {
   "cell_type": "markdown",
   "metadata": {},
   "source": [
    "#### reference: 1.- Geek for Geeks: (https://www.geeksforgeeks.org/python-get-a-list-as-input-from-user/)"
   ]
  },
  {
   "cell_type": "code",
   "execution_count": 1,
   "metadata": {},
   "outputs": [
    {
     "name": "stdout",
     "output_type": "stream",
     "text": [
      "Please, enter the number of elements that list will contain : 3\n"
     ]
    }
   ],
   "source": [
    "# ask for the number of elements in the list, it has to be an integer since we are asking for whole numbers (>0)\n",
    "# no option for letters (string) or rational numbers.\n",
    "try:\n",
    "    n= int(input(\"Please, enter the number of elements that list will contain : \"))\n",
    "\n",
    "except ValueError:\n",
    "    print('Please provide an integer number!!!') ## in case something different than integer is inserted, will print this."
   ]
  },
  {
   "cell_type": "markdown",
   "metadata": {},
   "source": [
    "### 2) Populate the list up to the maximum values set above and print the result, also count the number of times each item appears"
   ]
  },
  {
   "cell_type": "markdown",
   "metadata": {},
   "source": [
    "#### reference  1.- Geek for Geeks: (https://www.geeksforgeeks.org/python-get-a-list-as-input-from-user/)\n",
    "#### reference 2.- Stackoverflow: (https://stackoverflow.com/questions/2600191/how-can-i-count-the-occurrences-of-a-list-item/23909767)\n",
    "#### reference 3.- Stackoverflow (https://stackoverflow.com/questions/3845423/remove-empty-strings-from-a-list-of-strings)"
   ]
  },
  {
   "cell_type": "code",
   "execution_count": 2,
   "metadata": {},
   "outputs": [
    {
     "name": "stdout",
     "output_type": "stream",
     "text": [
      "Please, enter the item number 1 over 3 in the list : A\n",
      "Please, enter the item number 2 over 3 in the list : A\n",
      "Please, enter the item number 3 over 3 in the list : B\n"
     ]
    },
    {
     "data": {
      "text/plain": [
       "{'B': 1, 'A': 2}"
      ]
     },
     "execution_count": 2,
     "metadata": {},
     "output_type": "execute_result"
    }
   ],
   "source": [
    "# Create the function that will ask user the items to populate the list up to the number set in the above question.\n",
    "def count(n):\n",
    "    # create an empty list\n",
    "    L=[]\n",
    "    for i in range(0,n):\n",
    "        # add item\n",
    "        s= str(input(\"Please, enter the item number \" + str(i+1)+\" over \" + str(n) +\" in the list : \"))\n",
    "        # append in the list\n",
    "        L.append(s)\n",
    "        \n",
    "    # filter the list and remove empty values using filter\n",
    "    L = list(filter(None, L))\n",
    "    # convert in dictionary format and print\n",
    "    dictio=dict((x,L.count(x)) for x in set(L))\n",
    "    return dictio   \n",
    "# call the function\n",
    "count(n) "
   ]
  },
  {
   "cell_type": "markdown",
   "metadata": {},
   "source": [
    "# B) Diceroll"
   ]
  },
  {
   "cell_type": "markdown",
   "metadata": {},
   "source": [
    "#### reference: 2.- Stackoverflow: (https://stackoverflow.com/questions/2600191/how-can-i-count-the-occurrences-of-a-list-item/23909767)\n",
    "#### reference: 4.- Saltycrane: (https://www.saltycrane.com/blog/2007/09/how-to-sort-python-dictionary-by-keys/)\n",
    "#### reference 5: Stackoverflow: (https://stackoverflow.com/questions/41267131/sum-of-n-dice-in-python)"
   ]
  },
  {
   "cell_type": "code",
   "execution_count": 3,
   "metadata": {},
   "outputs": [
    {
     "name": "stdout",
     "output_type": "stream",
     "text": [
      "How many dices do you want to use? 10\n",
      "How many times would you like to make the dice roll? 2\n"
     ]
    }
   ],
   "source": [
    "import random\n",
    "try:# is just accepting integers as input, but in any case I have added an alert to say it needs to be populated by an integer\n",
    "    a=int(input('How many dices do you want to use? '))\n",
    "    b=int(input('How many times would you like to make the dice roll? '))\n",
    "except ValueError:\n",
    "    print('please put an integer in both questions')\n",
    "    \n",
    "    \n",
    "def diceroll(k,n):\n",
    "    #Create an empty list\n",
    "    L=[]\n",
    "    \n",
    "    ## set minimum and maximum value for diceroll\n",
    "    min=1\n",
    "    max=6\n",
    "    count=0\n",
    "    \n",
    "    for i in range(0,n):\n",
    "        z=0\n",
    "        if k==1:# Option for 1 dice\n",
    "            z=random.randint(min,max)# create a random number between 1 and 6\n",
    "            #L.append(x)\n",
    "        else:\n",
    "            for j in range(0,k):#give a random number k times depending on what the user said about number of dices\n",
    "                x =random.randint(min,max)\n",
    "                #print(x)\n",
    "                z += x\n",
    "                \n",
    "        L.append(z) # Populate the list\n",
    "                \n",
    "    return dict((x,L.count(x)) for x in set(L)) # count each time each member of the list appears\n",
    "\n"
   ]
  },
  {
   "cell_type": "code",
   "execution_count": 4,
   "metadata": {},
   "outputs": [
    {
     "data": {
      "text/plain": [
       "{33: 1, 28: 1}"
      ]
     },
     "execution_count": 4,
     "metadata": {},
     "output_type": "execute_result"
    }
   ],
   "source": [
    "## call the function\n",
    "diceroll(a,b)"
   ]
  },
  {
   "cell_type": "markdown",
   "metadata": {},
   "source": [
    "## C) numpy.random.binomial"
   ]
  },
  {
   "cell_type": "markdown",
   "metadata": {},
   "source": [
    "#### Reference: 6.- [cmdlinetips](https://cmdlinetips.com/2018/12/simulating-coin-toss-experiment-with-binomial-random-numbers-using-numpy/)\n",
    "#### 7.- [Seaborn.distplot](https://seaborn.pydata.org/generated/seaborn.distplot.html)"
   ]
  },
  {
   "cell_type": "markdown",
   "metadata": {},
   "source": [
    "#### Explanation\n",
    "\n",
    "The script asks the user two questions: how many times wants to flip the coin and how many times wants to repeat the action. After knowing the input values, those values feed the coin variable (where it is used the numpy.random.binomial function to simulate the flip of the coin).\n",
    "\n",
    "At last, it uses \"Series\" module from Pandas library to assign a X labelling in the distribution plot (from Seaborn library).\n",
    "\n",
    "Please note that, it has been set the same seed value at the begining to get the same number to create the random values."
   ]
  },
  {
   "cell_type": "code",
   "execution_count": 18,
   "metadata": {},
   "outputs": [
    {
     "name": "stdout",
     "output_type": "stream",
     "text": [
      "How many times you want to flip the coin? 100\n",
      "How many times you want to repeat this action? 1000\n"
     ]
    },
    {
     "data": {
      "text/plain": [
       "<matplotlib.axes._subplots.AxesSubplot at 0x7f8780acdd90>"
      ]
     },
     "execution_count": 18,
     "metadata": {},
     "output_type": "execute_result"
    },
    {
     "data": {
      "image/png": "[encoded data removed]",
      "text/plain": [
       "<Figure size 432x288 with 1 Axes>"
      ]
     },
     "metadata": {
      "needs_background": "light"
     },
     "output_type": "display_data"
    }
   ],
   "source": [
    "import numpy as np\n",
    "import seaborn as sns\n",
    "import pandas as pd\n",
    "# Set the seed to have the same random number when creating the simulation\n",
    "np.random.seed(34)\n",
    "# ask user how many times wants to flip the coin and how many times wants to repeat the action\n",
    "a=int(input('How many times you want to flip the coin? '))\n",
    "b=int(input('How many times you want to repeat this action? '))\n",
    "coin = np.random.binomial(a,0.5,b)\n",
    "\n",
    "x = pd.Series(coin,name=\"number of heads observed in \" + str(a) + \" flips, repeated \" + str(b) + \" times\")\n",
    "#display the result\n",
    "sns.distplot(x)"
   ]
  },
  {
   "cell_type": "markdown",
   "metadata": {},
   "source": [
    "## D) Simpson's paradox"
   ]
  },
  {
   "cell_type": "markdown",
   "metadata": {},
   "source": [
    "this script tries to demonstrate the Simpson's paradox. Simpson's paradox is a phenonmenon in probability in which a trend appears in several different groups of data but disappears or reverses when these groups are combined [Simpson's Paradox](https://en.wikipedia.org/wiki/Simpson%27s_paradox)"
   ]
  },
  {
   "cell_type": "markdown",
   "metadata": {},
   "source": [
    "#### references: https://quantdare.com/the-simpson-paradox/"
   ]
  },
  {
   "cell_type": "markdown",
   "metadata": {},
   "source": [
    "### Create 4 groups following different patterns each of those"
   ]
  },
  {
   "cell_type": "markdown",
   "metadata": {},
   "source": [
    "The script generate different groups (datasets) each of those follow a different regression line. The datasets are created following the expression \"y=ax+b\", the parameters \"a\" and \"b\" are asked to be filled by the user."
   ]
  },
  {
   "cell_type": "code",
   "execution_count": 76,
   "metadata": {},
   "outputs": [
    {
     "name": "stdout",
     "output_type": "stream",
     "text": [
      "a parameter for first dataset 2\n",
      "b parameter for first dataset 0\n",
      "a parameter for second dataset 3\n",
      "b parameter for second dataset 0\n",
      "a parameter for third dataset 4\n",
      "b parameter for third dataset 0\n",
      "a parameter for fourth dataset 1\n",
      "b parameter for fourth dataset 0\n"
     ]
    },
    {
     "data": {
      "image/png": "[encoded data removed]",
      "text/plain": [
       "<Figure size 432x288 with 1 Axes>"
      ]
     },
     "metadata": {
      "needs_background": "light"
     },
     "output_type": "display_data"
    }
   ],
   "source": [
    "import numpy as np\n",
    "import pandas as pd\n",
    "import random\n",
    "import seaborn as sns\n",
    "# create data on 2 variables (x,y) and for 4 groups, A,B,C and D\n",
    "\n",
    "a=int(input('a parameter for first dataset '))\n",
    "b=int(input('b parameter for first dataset '))\n",
    "a2=int(input('a parameter for second dataset '))\n",
    "b2=int(input('b parameter for second dataset '))\n",
    "a3=int(input('a parameter for third dataset '))\n",
    "b3=int(input('b parameter for third dataset '))\n",
    "a4=int(input('a parameter for fourth dataset '))\n",
    "b4=int(input('b parameter for fourth dataset '))\n",
    "x=np.linspace(1,10,10,dtype='int') # the X array is the same for all groups, numbers integers from 1-10\n",
    "##########\n",
    "# group A\n",
    "##########\n",
    "\n",
    "y= a*x+b\n",
    "a = {'x': x, 'y': y}\n",
    "df = pd.DataFrame(a)\n",
    "\n",
    "#########\n",
    "#group B\n",
    "#########\n",
    "x2=np.linspace(-10,0,10,dtype='int')\n",
    "y2=a2*x+b2\n",
    "\n",
    "b = {'x': x2, 'y': y2}\n",
    "df2 = pd.DataFrame(b)\n",
    "\n",
    "#########\n",
    "#group C\n",
    "#########\n",
    "x3=np.linspace(5,15,10,dtype='int')\n",
    "y3=a3*x+b3\n",
    "\n",
    "c = {'x': x3, 'y': y3}\n",
    "df3 = pd.DataFrame(c)\n",
    "\n",
    "#########\n",
    "#group D\n",
    "#########\n",
    "x4=np.linspace(20,30,10,dtype='int')\n",
    "y4=a4*x+b4\n",
    "\n",
    "d = {'x': x4, 'y': y4}\n",
    "df4 = pd.DataFrame(d)\n",
    "\n",
    "#sns.set_theme(color_codes=True)\n",
    "sns.regplot(x=\"x\", y=\"y\", data=df, color = 'red');\n",
    "sns.regplot(x=\"x\", y=\"y\", data=df2 , color = 'green');\n",
    "sns.regplot(x=\"x\", y=\"y\", data=df3 , color = 'orange');\n",
    "sns.regplot(x=\"x\", y=\"y\", data=df4 , color = 'yellow');\n",
    "# https://pandas.pydata.org/pandas-docs/stable/reference/api/pandas.DataFrame.html\n",
    "# https://stackoverflow.com/questions/59670195/filling-multiple-columns-in-dataframe\n"
   ]
  },
  {
   "cell_type": "markdown",
   "metadata": {},
   "source": [
    "as it can be seen, each line represents a different function following its own pattern"
   ]
  },
  {
   "cell_type": "markdown",
   "metadata": {},
   "source": [
    "### Concatenate all datasets in one"
   ]
  },
  {
   "cell_type": "markdown",
   "metadata": {},
   "source": [
    "When it comes to concatenate all datasets in one, it can be seen the regression line follows a different pattern than the ones above"
   ]
  },
  {
   "cell_type": "code",
   "execution_count": 77,
   "metadata": {},
   "outputs": [
    {
     "data": {
      "image/png": "[encoded data removed]",
      "text/plain": [
       "<Figure size 432x288 with 1 Axes>"
      ]
     },
     "metadata": {
      "needs_background": "light"
     },
     "output_type": "display_data"
    }
   ],
   "source": [
    "# concatenate all df and find the regression line\n",
    "df_merge_col = pd.concat([df, df2,df3,df4],\n",
    "          names=['x', 'y'])\n",
    "sns.regplot(x=\"x\", y=\"y\", data=df_merge_col, color = 'black');"
   ]
  },
  {
   "cell_type": "code",
   "execution_count": null,
   "metadata": {},
   "outputs": [],
   "source": []
  }
 ],
 "metadata": {
  "kernelspec": {
   "display_name": "Python 3",
   "language": "python",
   "name": "python3"
  },
  "language_info": {
   "codemirror_mode": {
    "name": "ipython",
    "version": 3
   },
   "file_extension": ".py",
   "mimetype": "text/x-python",
   "name": "python",
   "nbconvert_exporter": "python",
   "pygments_lexer": "ipython3",
   "version": "3.8.3"
  }
 },
 "nbformat": 4,
 "nbformat_minor": 4
}
