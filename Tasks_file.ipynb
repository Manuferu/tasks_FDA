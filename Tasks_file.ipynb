{
 "cells": [
  {
   "cell_type": "markdown",
   "metadata": {},
   "source": [
    "# File containing all tasks required"
   ]
  },
  {
   "cell_type": "markdown",
   "metadata": {},
   "source": [
    "# A) counts.py"
   ]
  },
  {
   "cell_type": "markdown",
   "metadata": {},
   "source": [
    "### 1) set an empty list and ask for the total number of items on it we want."
   ]
  },
  {
   "cell_type": "markdown",
   "metadata": {},
   "source": [
    "#### reference: 1.- Geek for Geeks: (https://www.geeksforgeeks.org/python-get-a-list-as-input-from-user/)"
   ]
  },
  {
   "cell_type": "code",
   "execution_count": 1,
   "metadata": {},
   "outputs": [],
   "source": [
    "# create an empty list\n",
    "L=[]"
   ]
  },
  {
   "cell_type": "code",
   "execution_count": 2,
   "metadata": {},
   "outputs": [
    {
     "name": "stdout",
     "output_type": "stream",
     "text": [
      "Please, enter the number of elements that list will contain : 5\n"
     ]
    }
   ],
   "source": [
    "# ask for the number of elements in the list, it has to be an integer since we are asking for whole numbers (>0)\n",
    "# no option for letters (string) or rational numbers.\n",
    "n= int(input(\"Please, enter the number of elements that list will contain : \"))"
   ]
  },
  {
   "cell_type": "markdown",
   "metadata": {},
   "source": [
    "### 2) Populate the list up to the maximum values set above and print the result, also count the number of times each item appears"
   ]
  },
  {
   "cell_type": "markdown",
   "metadata": {},
   "source": [
    "#### references: 2.- Stackoverflow: (https://stackoverflow.com/questions/2600191/how-can-i-count-the-occurrences-of-a-list-item/23909767)\n",
    "####                     1.- Geek for Geeks: (https://www.geeksforgeeks.org/python-get-a-list-as-input-from-user/)"
   ]
  },
  {
   "cell_type": "code",
   "execution_count": 3,
   "metadata": {},
   "outputs": [
    {
     "name": "stdout",
     "output_type": "stream",
     "text": [
      "Please, enter the item number 1 over 5 in the list : A\n",
      "Please, enter the item number 2 over 5 in the list : B\n",
      "Please, enter the item number 3 over 5 in the list : C\n",
      "Please, enter the item number 4 over 5 in the list : \n",
      "Please, enter the item number 5 over 5 in the list : A\n",
      "['A', 'B', 'C', '', 'A']\n"
     ]
    }
   ],
   "source": [
    "# ask for the items in the list, I will put set it as string in order to be able to allocate numbers, letters\n",
    "# and any kind of combinations we want.To be sure I do not exceed the maximum items I set at the beginning,\n",
    "# I iterate through the a range between 0 and number of items set in the previous step in order to be sure to append \n",
    "# exactly the same number of items in the list as I set before\n",
    "for i in range(0,n):\n",
    "    # add item\n",
    "    s= str(input(\"Please, enter the item number \" + str(i+1)+\" over \" + str(n) +\" in the list : \"))\n",
    "    # append in the list\n",
    "    L.append(s)\n",
    "    \n",
    "print(L)\n",
    " "
   ]
  },
  {
   "cell_type": "markdown",
   "metadata": {
    "scrolled": false
   },
   "source": [
    "#### Clean up the list a bit, just by removing empty values in the list"
   ]
  },
  {
   "cell_type": "markdown",
   "metadata": {},
   "source": [
    "#### reference 3.- Stackoverflow (https://stackoverflow.com/questions/3845423/remove-empty-strings-from-a-list-of-strings)"
   ]
  },
  {
   "cell_type": "code",
   "execution_count": 4,
   "metadata": {},
   "outputs": [],
   "source": [
    "# filter the list and remove empty values using filter\n",
    "\n",
    "L = list(filter(None, L))"
   ]
  },
  {
   "cell_type": "markdown",
   "metadata": {},
   "source": [
    "### 4) iterate through the list and count the number of times each item is repited. Add dict function at the begining of the iteration to be sure we print it as dictionary format. In addition, print the dictionaries output in vertical and sorted from Key"
   ]
  },
  {
   "cell_type": "markdown",
   "metadata": {},
   "source": [
    "#### reference: 2.- Stackoverflow: (https://stackoverflow.com/questions/2600191/how-can-i-count-the-occurrences-of-a-list-item/23909767)\n",
    "#### reference: 4.- Saltycrane: (https://www.saltycrane.com/blog/2007/09/how-to-sort-python-dictionary-by-keys/)"
   ]
  },
  {
   "cell_type": "code",
   "execution_count": 5,
   "metadata": {},
   "outputs": [
    {
     "name": "stdout",
     "output_type": "stream",
     "text": [
      "{'A': 2, 'B': 1, 'C': 1}\n"
     ]
    }
   ],
   "source": [
    "dictio=dict((x,L.count(x)) for x in set(L))\n",
    "print(dictio)"
   ]
  },
  {
   "cell_type": "code",
   "execution_count": 6,
   "metadata": {},
   "outputs": [
    {
     "name": "stdout",
     "output_type": "stream",
     "text": [
      "'A': 2\n",
      "'B': 1\n",
      "'C': 1\n"
     ]
    }
   ],
   "source": [
    "for key in sorted(dictio.keys()):\n",
    "    print(\"'\" + str(key) + \"'\" + \": \" + str(dictio[key]))"
   ]
  },
  {
   "cell_type": "markdown",
   "metadata": {},
   "source": [
    "# B) Diceroll"
   ]
  },
  {
   "cell_type": "markdown",
   "metadata": {},
   "source": [
    "#### reference: 2.- Stackoverflow: (https://stackoverflow.com/questions/2600191/how-can-i-count-the-occurrences-of-a-list-item/23909767)\n",
    "#### reference: 4.- Saltycrane: (https://www.saltycrane.com/blog/2007/09/how-to-sort-python-dictionary-by-keys/)\n",
    "#### reference 5: Stackoverflow: (https://stackoverflow.com/questions/41267131/sum-of-n-dice-in-python)"
   ]
  },
  {
   "cell_type": "code",
   "execution_count": 56,
   "metadata": {},
   "outputs": [
    {
     "name": "stdout",
     "output_type": "stream",
     "text": [
      "How many dice do you want to use?2\n",
      "How many times would you like to make the dice roll?2\n"
     ]
    },
    {
     "data": {
      "text/plain": [
       "{2: 1, 10: 1, 6: 1, 7: 1}"
      ]
     },
     "execution_count": 56,
     "metadata": {},
     "output_type": "execute_result"
    }
   ],
   "source": [
    "import random\n",
    "\n",
    "a=int(input('How many dice do you want to use?'))\n",
    "b=int(input('How many times would you like to make the dice roll?'))\n",
    "#Create an empty list\n",
    "L=[]\n",
    "def diceroll(k,n):\n",
    "    ## set minimum and maximum value for diceroll\n",
    "    min=1\n",
    "    max=6\n",
    "    count=0\n",
    "    for i in range(0,n):\n",
    "        if k==1:\n",
    "            x=random.randint(min,max)# create a random number between 1 and 6\n",
    "            L.append(x)\n",
    "        else:\n",
    "            z=0\n",
    "            for j in range(1,k+1):\n",
    "                x =random.randint(min,max)\n",
    "                z+=x\n",
    "                L.append(z)\n",
    "                \n",
    "    return dict((x,L.count(x)) for x in set(L)) # count each time each member of the list appears\n",
    "\n",
    "## call the function\n",
    "diceroll(a,b)"
   ]
  },
  {
   "cell_type": "code",
   "execution_count": null,
   "metadata": {},
   "outputs": [],
   "source": []
  },
  {
   "cell_type": "code",
   "execution_count": null,
   "metadata": {},
   "outputs": [],
   "source": []
  }
 ],
 "metadata": {
  "kernelspec": {
   "display_name": "Python 3",
   "language": "python",
   "name": "python3"
  },
  "language_info": {
   "codemirror_mode": {
    "name": "ipython",
    "version": 3
   },
   "file_extension": ".py",
   "mimetype": "text/x-python",
   "name": "python",
   "nbconvert_exporter": "python",
   "pygments_lexer": "ipython3",
   "version": "3.8.3"
  }
 },
 "nbformat": 4,
 "nbformat_minor": 4
}
