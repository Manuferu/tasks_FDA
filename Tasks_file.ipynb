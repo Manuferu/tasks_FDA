{
 "cells": [
  {
   "cell_type": "markdown",
   "metadata": {},
   "source": [
    "# File containing all tasks required"
   ]
  },
  {
   "cell_type": "markdown",
   "metadata": {},
   "source": [
    "# A) counts.py"
   ]
  },
  {
   "cell_type": "markdown",
   "metadata": {},
   "source": [
    "### 1) set an empty list and ask for the total number of items on it we want."
   ]
  },
  {
   "cell_type": "markdown",
   "metadata": {},
   "source": [
    "#### reference: 1.- Geek for Geeks: (https://www.geeksforgeeks.org/python-get-a-list-as-input-from-user/)"
   ]
  },
  {
   "cell_type": "code",
   "execution_count": 1,
   "metadata": {},
   "outputs": [
    {
     "name": "stdout",
     "output_type": "stream",
     "text": [
      "Please, enter the number of elements that list will contain : 1\n"
     ]
    }
   ],
   "source": [
    "# ask for the number of elements in the list, it has to be an integer since we are asking for whole numbers (>0)\n",
    "# no option for letters (string) or rational numbers.\n",
    "try:\n",
    "    n= int(input(\"Please, enter the number of elements that list will contain : \"))\n",
    "\n",
    "except ValueError:\n",
    "    print('Please provide an integer number!!!') ## in case something different than integer is inserted, will print this."
   ]
  },
  {
   "cell_type": "markdown",
   "metadata": {},
   "source": [
    "### 2) Populate the list up to the maximum values set above and print the result, also count the number of times each item appears"
   ]
  },
  {
   "cell_type": "markdown",
   "metadata": {},
   "source": [
    "#### reference  1.- Geek for Geeks: (https://www.geeksforgeeks.org/python-get-a-list-as-input-from-user/)\n",
    "#### reference 2.- Stackoverflow: (https://stackoverflow.com/questions/2600191/how-can-i-count-the-occurrences-of-a-list-item/23909767)\n",
    "#### reference 3.- Stackoverflow (https://stackoverflow.com/questions/3845423/remove-empty-strings-from-a-list-of-strings)"
   ]
  },
  {
   "cell_type": "code",
   "execution_count": 2,
   "metadata": {},
   "outputs": [
    {
     "name": "stdout",
     "output_type": "stream",
     "text": [
      "Please, enter the item number 1 over 1 in the list : a\n"
     ]
    },
    {
     "data": {
      "text/plain": [
       "{'a': 1}"
      ]
     },
     "execution_count": 2,
     "metadata": {},
     "output_type": "execute_result"
    }
   ],
   "source": [
    "# Create the function that will ask user the items to populate the list up to the number set in the above question.\n",
    "def count(n):\n",
    "    # create an empty list\n",
    "    L=[]\n",
    "    for i in range(0,n):\n",
    "        # add item\n",
    "        s= str(input(\"Please, enter the item number \" + str(i+1)+\" over \" + str(n) +\" in the list : \"))\n",
    "        # append in the list\n",
    "        L.append(s)\n",
    "        \n",
    "    # filter the list and remove empty values using filter\n",
    "    L = list(filter(None, L))\n",
    "    # convert in dictionary format and print\n",
    "    dictio=dict((x,L.count(x)) for x in set(L))\n",
    "    return dictio   \n",
    "# call the function\n",
    "count(n) "
   ]
  },
  {
   "cell_type": "markdown",
   "metadata": {},
   "source": [
    "# B) Diceroll"
   ]
  },
  {
   "cell_type": "markdown",
   "metadata": {},
   "source": [
    "#### reference: 2.- Stackoverflow: (https://stackoverflow.com/questions/2600191/how-can-i-count-the-occurrences-of-a-list-item/23909767)\n",
    "#### reference: 4.- Saltycrane: (https://www.saltycrane.com/blog/2007/09/how-to-sort-python-dictionary-by-keys/)\n",
    "#### reference 5: Stackoverflow: (https://stackoverflow.com/questions/41267131/sum-of-n-dice-in-python)"
   ]
  },
  {
   "cell_type": "code",
   "execution_count": 50,
   "metadata": {},
   "outputs": [
    {
     "name": "stdout",
     "output_type": "stream",
     "text": [
      "How many dices do you want to use? 3\n",
      "How many times would you like to make the dice roll? 1000\n"
     ]
    }
   ],
   "source": [
    "import random\n",
    "try:# is just accepting integers as input, but in any case I have added an alert to say it needs to be populated by an integer\n",
    "    a=int(input('How many dices do you want to use? '))\n",
    "    b=int(input('How many times would you like to make the dice roll? '))\n",
    "except ValueError:\n",
    "    print('please put an integer in both questions')\n",
    "    \n",
    "    \n",
    "def diceroll(k,n):\n",
    "    #Create an empty list\n",
    "    L=[]\n",
    "    \n",
    "    ## set minimum and maximum value for diceroll\n",
    "    min=1\n",
    "    max=6\n",
    "    count=0\n",
    "    \n",
    "    for i in range(0,n):\n",
    "        z=0\n",
    "        if k==1:# Option for 1 dice\n",
    "            z=random.randint(min,max)# create a random number between 1 and 6\n",
    "            #L.append(x)\n",
    "        else:\n",
    "            for j in range(0,k):#give a random number k times depending on what the user said about number of dices\n",
    "                x =random.randint(min,max)\n",
    "                #print(x)\n",
    "                z += x\n",
    "                \n",
    "        L.append(z) # Populate the list\n",
    "                \n",
    "    return dict((x,L.count(x)) for x in set(L)) # count each time each member of the list appears\n",
    "\n"
   ]
  },
  {
   "cell_type": "code",
   "execution_count": 51,
   "metadata": {},
   "outputs": [
    {
     "data": {
      "text/plain": [
       "{3: 8,\n",
       " 4: 17,\n",
       " 5: 17,\n",
       " 6: 45,\n",
       " 7: 84,\n",
       " 8: 100,\n",
       " 9: 127,\n",
       " 10: 130,\n",
       " 11: 109,\n",
       " 12: 108,\n",
       " 13: 101,\n",
       " 14: 62,\n",
       " 15: 49,\n",
       " 16: 19,\n",
       " 17: 18,\n",
       " 18: 6}"
      ]
     },
     "execution_count": 51,
     "metadata": {},
     "output_type": "execute_result"
    }
   ],
   "source": [
    "## call the function\n",
    "diceroll(a,b)"
   ]
  },
  {
   "cell_type": "markdown",
   "metadata": {},
   "source": [
    "## C) numpy.random.binomial"
   ]
  }
 ],
 "metadata": {
  "kernelspec": {
   "display_name": "Python 3",
   "language": "python",
   "name": "python3"
  },
  "language_info": {
   "codemirror_mode": {
    "name": "ipython",
    "version": 3
   },
   "file_extension": ".py",
   "mimetype": "text/x-python",
   "name": "python",
   "nbconvert_exporter": "python",
   "pygments_lexer": "ipython3",
   "version": "3.8.3"
  }
 },
 "nbformat": 4,
 "nbformat_minor": 4
}
