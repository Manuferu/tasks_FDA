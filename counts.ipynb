{
 "cells": [
  {
   "cell_type": "markdown",
   "metadata": {},
   "source": [
    "# File for using Jupyter notebook based in python to allow user to create a list and print a dictionary of unique values"
   ]
  },
  {
   "cell_type": "markdown",
   "metadata": {},
   "source": [
    "## this file corresponds with the task number 1 , counts.py"
   ]
  },
  {
   "cell_type": "markdown",
   "metadata": {},
   "source": [
    "### 1) set an empty list and ask for the total number of items on it we want."
   ]
  },
  {
   "cell_type": "markdown",
   "metadata": {},
   "source": [
    "#### reference: 1.- Geek for Geeks: (https://www.geeksforgeeks.org/python-get-a-list-as-input-from-user/)"
   ]
  },
  {
   "cell_type": "code",
   "execution_count": 22,
   "metadata": {},
   "outputs": [],
   "source": [
    "# create an empty list\n",
    "L=[]"
   ]
  },
  {
   "cell_type": "code",
   "execution_count": 23,
   "metadata": {},
   "outputs": [
    {
     "name": "stdout",
     "output_type": "stream",
     "text": [
      "Please, enter the number of elements that list will contain : 4\n"
     ]
    }
   ],
   "source": [
    "# ask for the number of elements in the list, it has to be an integer since we are asking for whole numbers (>0)\n",
    "# no option for letters (string) or rational numbers.\n",
    "n= int(input(\"Please, enter the number of elements that list will contain : \"))"
   ]
  },
  {
   "cell_type": "markdown",
   "metadata": {},
   "source": [
    "### 2) Populate the list up to the maximum values set above and print the result, also count the number of times each item appears"
   ]
  },
  {
   "cell_type": "markdown",
   "metadata": {},
   "source": [
    "#### references: 2.- Stackoverflow: (https://stackoverflow.com/questions/2600191/how-can-i-count-the-occurrences-of-a-list-item/23909767)\n",
    "####                     1.- Geek for Geeks: (https://www.geeksforgeeks.org/python-get-a-list-as-input-from-user/)"
   ]
  },
  {
   "cell_type": "code",
   "execution_count": 24,
   "metadata": {},
   "outputs": [
    {
     "name": "stdout",
     "output_type": "stream",
     "text": [
      "Please, enter the item number 1 over 4 in the list : 1\n",
      "Please, enter the item number 2 over 4 in the list : A\n",
      "Please, enter the item number 3 over 4 in the list : 3\n",
      "Please, enter the item number 4 over 4 in the list : 3\n",
      "['1', 'A', '3', '3']\n"
     ]
    }
   ],
   "source": [
    "# ask for the items in the list, I will put set it as string in order to be able to allocate numbers, letters\n",
    "# and any kind of combinations we want.To be sure I do not exceed the maximum items I set at the beginning,\n",
    "# I iterate through the a range between 0 and number of items set in the previous step in order to be sure to append \n",
    "# exactly the same number of items in the list as I set before\n",
    "for i in range(0,n):\n",
    "    # add item\n",
    "    s= str(input(\"Please, enter the item number \" + str(i+1)+\" over \" + str(n) +\" in the list : \"))\n",
    "    # append in the list\n",
    "    L.append(s)\n",
    "    \n",
    "print(L)\n",
    " "
   ]
  },
  {
   "cell_type": "markdown",
   "metadata": {},
   "source": [
    "### 4) iterate through the list and count the number of times each item is repited. Add dict function at the begining of the iteration to be sure we print it as dictionary format"
   ]
  },
  {
   "cell_type": "markdown",
   "metadata": {},
   "source": [
    "#### reference: 2.- Stackoverflow: (https://stackoverflow.com/questions/2600191/how-can-i-count-the-occurrences-of-a-list-item/23909767)"
   ]
  },
  {
   "cell_type": "code",
   "execution_count": 25,
   "metadata": {},
   "outputs": [
    {
     "data": {
      "text/plain": [
       "{'1': 1, '3': 2, 'A': 1}"
      ]
     },
     "execution_count": 25,
     "metadata": {},
     "output_type": "execute_result"
    }
   ],
   "source": [
    "dict((x,L.count(x)) for x in set(L))"
   ]
  },
  {
   "cell_type": "markdown",
   "metadata": {},
   "source": []
  },
  {
   "cell_type": "code",
   "execution_count": null,
   "metadata": {
    "scrolled": false
   },
   "outputs": [],
   "source": []
  }
 ],
 "metadata": {
  "kernelspec": {
   "display_name": "Python 3",
   "language": "python",
   "name": "python3"
  },
  "language_info": {
   "codemirror_mode": {
    "name": "ipython",
    "version": 3
   },
   "file_extension": ".py",
   "mimetype": "text/x-python",
   "name": "python",
   "nbconvert_exporter": "python",
   "pygments_lexer": "ipython3",
   "version": "3.8.3"
  }
 },
 "nbformat": 4,
 "nbformat_minor": 4
}
